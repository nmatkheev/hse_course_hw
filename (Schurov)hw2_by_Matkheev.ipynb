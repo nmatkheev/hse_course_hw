{
 "cells": [
  {
   "cell_type": "markdown",
   "metadata": {},
   "source": [
    "# Математика для машинного обучения\n",
    "## Домашнее задание\n",
    "\n",
    "_Автор задания: Илья Щуров_\n",
    "\n",
    "Подготовлено для программы «[Практический анализ данных и машинное обучение](https://cs.hse.ru/dpo/bigml)» (ФКН НИУ ВШЭ)."
   ]
  },
  {
   "cell_type": "markdown",
   "metadata": {},
   "source": [
    "Задание выполнил(а): *Матхеев Николай*"
   ]
  },
  {
   "cell_type": "markdown",
   "metadata": {},
   "source": [
    "## Статистика"
   ]
  },
  {
   "cell_type": "markdown",
   "metadata": {},
   "source": [
    "### Описательные статистики"
   ]
  },
  {
   "cell_type": "markdown",
   "metadata": {},
   "source": [
    "Для выборки $x_1, x_2, \\ldots, x_n$ определены следующие величины (они часто называются *описательными статистиками*):\n",
    "\n",
    "1. Выборочное среднее: $$\\bar x = \\frac{x_1 + x_2 + \\ldots + x_n}{n}.$$\n",
    "2. Выборочная дисперсия: $$\\sigma^2 = \\frac{(x_1-\\bar x)^2 + (x_2 - \\bar x)^2 + \\ldots + (x_n - \\bar x)^2}{n}.$$\n",
    "3. Исправленная выборочная дисперсия: $$\\sigma_+^2 = \\frac{(x_1-\\bar x)^2 + (x_2 - \\bar x)^2 + \\ldots + (x_n - \\bar x)^2}{n - 1}.$$\n",
    "4. Выборочное стандартное отклонение: квадратный корень из выборочной дисперсии (обозначается $\\sigma$ или $SD$).\n",
    "5. Исправленное выборочное стандартное отклонение: квадратный корень из исправленной выборочной дисперсии (обозначается $\\sigma_+$ или $SD_+$ или ещё как-нибудь).\n",
    "6. [Медиана](https://ru.wikipedia.org/wiki/%D0%9C%D0%B5%D0%B4%D0%B8%D0%B0%D0%BD%D0%B0_(%D1%81%D1%82%D0%B0%D1%82%D0%B8%D1%81%D1%82%D0%B8%D0%BA%D0%B0%29)."
   ]
  },
  {
   "cell_type": "markdown",
   "metadata": {},
   "source": [
    "### Задача 1\n",
    "Для выборки $\\{1, 10, 2, 15, 100\\}$ найти все характеристики, перечисленные выше.\n",
    "\n",
    "Подсказка: можно использовать функции `np.mean`, `np.var`, `np.std`, `np.median`. Для вычисления исправленной выборочной дисперсии и исправленного выборочного стандартного отклонения необходимо соответствующим функциям передать параметр `ddof=1`."
   ]
  },
  {
   "cell_type": "code",
   "execution_count": 2,
   "metadata": {
    "collapsed": true
   },
   "outputs": [],
   "source": [
    "import numpy as np"
   ]
  },
  {
   "cell_type": "code",
   "execution_count": 110,
   "metadata": {
    "collapsed": false
   },
   "outputs": [
    {
     "data": {
      "text/html": [
       "<div>\n",
       "<table border=\"1\" class=\"dataframe\">\n",
       "  <thead>\n",
       "    <tr style=\"text-align: right;\">\n",
       "      <th></th>\n",
       "      <th>metrics</th>\n",
       "    </tr>\n",
       "  </thead>\n",
       "  <tbody>\n",
       "    <tr>\n",
       "      <th>mean</th>\n",
       "      <td>25.600000</td>\n",
       "    </tr>\n",
       "    <tr>\n",
       "      <th>variance</th>\n",
       "      <td>1410.640000</td>\n",
       "    </tr>\n",
       "    <tr>\n",
       "      <th>corr_var</th>\n",
       "      <td>1763.300000</td>\n",
       "    </tr>\n",
       "    <tr>\n",
       "      <th>std</th>\n",
       "      <td>37.558488</td>\n",
       "    </tr>\n",
       "    <tr>\n",
       "      <th>corr_std</th>\n",
       "      <td>41.991666</td>\n",
       "    </tr>\n",
       "    <tr>\n",
       "      <th>median</th>\n",
       "      <td>10.000000</td>\n",
       "    </tr>\n",
       "  </tbody>\n",
       "</table>\n",
       "</div>"
      ],
      "text/plain": [
       "              metrics\n",
       "mean        25.600000\n",
       "variance  1410.640000\n",
       "corr_var  1763.300000\n",
       "std         37.558488\n",
       "corr_std    41.991666\n",
       "median      10.000000"
      ]
     },
     "execution_count": 110,
     "metadata": {},
     "output_type": "execute_result"
    }
   ],
   "source": [
    "# впишите решение сюда\n",
    "data1 = np.array([1,10,2,15,100])\n",
    "mean = np.mean(data1)\n",
    "\n",
    "var = np.var(data1)\n",
    "ivar = np.var(data1, ddof=1)\n",
    "sd = np.std(data1)\n",
    "isd = np.std(data1, ddof=1)\n",
    "median = np.median(data1)\n",
    "\n",
    "pd.DataFrame({'metrics': [mean, var, ivar, sd, isd, median]}, index=['mean', 'variance', 'corr_var', 'std', 'corr_std', 'median'])"
   ]
  },
  {
   "cell_type": "markdown",
   "metadata": {},
   "source": [
    "### Квартет Энскомба\n",
    "Загрузим набор данных, который называется «квартетом Энскомба». (Нам потребуется использовать пакет `pandas`.)"
   ]
  },
  {
   "cell_type": "code",
   "execution_count": 5,
   "metadata": {
    "collapsed": false
   },
   "outputs": [
    {
     "data": {
      "text/html": [
       "<div>\n",
       "<table border=\"1\" class=\"dataframe\">\n",
       "  <thead>\n",
       "    <tr style=\"text-align: right;\">\n",
       "      <th></th>\n",
       "      <th>x1</th>\n",
       "      <th>x2</th>\n",
       "      <th>x3</th>\n",
       "      <th>x4</th>\n",
       "      <th>y1</th>\n",
       "      <th>y2</th>\n",
       "      <th>y3</th>\n",
       "      <th>y4</th>\n",
       "    </tr>\n",
       "  </thead>\n",
       "  <tbody>\n",
       "    <tr>\n",
       "      <th>1</th>\n",
       "      <td>10</td>\n",
       "      <td>10</td>\n",
       "      <td>10</td>\n",
       "      <td>8</td>\n",
       "      <td>8.04</td>\n",
       "      <td>9.14</td>\n",
       "      <td>7.46</td>\n",
       "      <td>6.58</td>\n",
       "    </tr>\n",
       "    <tr>\n",
       "      <th>2</th>\n",
       "      <td>8</td>\n",
       "      <td>8</td>\n",
       "      <td>8</td>\n",
       "      <td>8</td>\n",
       "      <td>6.95</td>\n",
       "      <td>8.14</td>\n",
       "      <td>6.77</td>\n",
       "      <td>5.76</td>\n",
       "    </tr>\n",
       "    <tr>\n",
       "      <th>3</th>\n",
       "      <td>13</td>\n",
       "      <td>13</td>\n",
       "      <td>13</td>\n",
       "      <td>8</td>\n",
       "      <td>7.58</td>\n",
       "      <td>8.74</td>\n",
       "      <td>12.74</td>\n",
       "      <td>7.71</td>\n",
       "    </tr>\n",
       "    <tr>\n",
       "      <th>4</th>\n",
       "      <td>9</td>\n",
       "      <td>9</td>\n",
       "      <td>9</td>\n",
       "      <td>8</td>\n",
       "      <td>8.81</td>\n",
       "      <td>8.77</td>\n",
       "      <td>7.11</td>\n",
       "      <td>8.84</td>\n",
       "    </tr>\n",
       "    <tr>\n",
       "      <th>5</th>\n",
       "      <td>11</td>\n",
       "      <td>11</td>\n",
       "      <td>11</td>\n",
       "      <td>8</td>\n",
       "      <td>8.33</td>\n",
       "      <td>9.26</td>\n",
       "      <td>7.81</td>\n",
       "      <td>8.47</td>\n",
       "    </tr>\n",
       "    <tr>\n",
       "      <th>6</th>\n",
       "      <td>14</td>\n",
       "      <td>14</td>\n",
       "      <td>14</td>\n",
       "      <td>8</td>\n",
       "      <td>9.96</td>\n",
       "      <td>8.10</td>\n",
       "      <td>8.84</td>\n",
       "      <td>7.04</td>\n",
       "    </tr>\n",
       "    <tr>\n",
       "      <th>7</th>\n",
       "      <td>6</td>\n",
       "      <td>6</td>\n",
       "      <td>6</td>\n",
       "      <td>8</td>\n",
       "      <td>7.24</td>\n",
       "      <td>6.13</td>\n",
       "      <td>6.08</td>\n",
       "      <td>5.25</td>\n",
       "    </tr>\n",
       "    <tr>\n",
       "      <th>8</th>\n",
       "      <td>4</td>\n",
       "      <td>4</td>\n",
       "      <td>4</td>\n",
       "      <td>19</td>\n",
       "      <td>4.26</td>\n",
       "      <td>3.10</td>\n",
       "      <td>5.39</td>\n",
       "      <td>12.50</td>\n",
       "    </tr>\n",
       "    <tr>\n",
       "      <th>9</th>\n",
       "      <td>12</td>\n",
       "      <td>12</td>\n",
       "      <td>12</td>\n",
       "      <td>8</td>\n",
       "      <td>10.84</td>\n",
       "      <td>9.13</td>\n",
       "      <td>8.15</td>\n",
       "      <td>5.56</td>\n",
       "    </tr>\n",
       "    <tr>\n",
       "      <th>10</th>\n",
       "      <td>7</td>\n",
       "      <td>7</td>\n",
       "      <td>7</td>\n",
       "      <td>8</td>\n",
       "      <td>4.82</td>\n",
       "      <td>7.26</td>\n",
       "      <td>6.42</td>\n",
       "      <td>7.91</td>\n",
       "    </tr>\n",
       "    <tr>\n",
       "      <th>11</th>\n",
       "      <td>5</td>\n",
       "      <td>5</td>\n",
       "      <td>5</td>\n",
       "      <td>8</td>\n",
       "      <td>5.68</td>\n",
       "      <td>4.74</td>\n",
       "      <td>5.73</td>\n",
       "      <td>6.89</td>\n",
       "    </tr>\n",
       "  </tbody>\n",
       "</table>\n",
       "</div>"
      ],
      "text/plain": [
       "    x1  x2  x3  x4     y1    y2     y3     y4\n",
       "1   10  10  10   8   8.04  9.14   7.46   6.58\n",
       "2    8   8   8   8   6.95  8.14   6.77   5.76\n",
       "3   13  13  13   8   7.58  8.74  12.74   7.71\n",
       "4    9   9   9   8   8.81  8.77   7.11   8.84\n",
       "5   11  11  11   8   8.33  9.26   7.81   8.47\n",
       "6   14  14  14   8   9.96  8.10   8.84   7.04\n",
       "7    6   6   6   8   7.24  6.13   6.08   5.25\n",
       "8    4   4   4  19   4.26  3.10   5.39  12.50\n",
       "9   12  12  12   8  10.84  9.13   8.15   5.56\n",
       "10   7   7   7   8   4.82  7.26   6.42   7.91\n",
       "11   5   5   5   8   5.68  4.74   5.73   6.89"
      ]
     },
     "execution_count": 5,
     "metadata": {},
     "output_type": "execute_result"
    }
   ],
   "source": [
    "import pandas as pd\n",
    "url = \"https://vincentarelbundock.github.io/Rdatasets/csv/datasets/anscombe.csv\"\n",
    "data = pd.read_csv(url, index_col=0)\n",
    "data"
   ]
  },
  {
   "cell_type": "markdown",
   "metadata": {},
   "source": [
    "Для обращения к отдельным переменным (стобцам таблицы) нужно использовать такой синтаксис:"
   ]
  },
  {
   "cell_type": "code",
   "execution_count": 6,
   "metadata": {
    "collapsed": false
   },
   "outputs": [
    {
     "data": {
      "text/plain": [
       "1     10\n",
       "2      8\n",
       "3     13\n",
       "4      9\n",
       "5     11\n",
       "6     14\n",
       "7      6\n",
       "8      4\n",
       "9     12\n",
       "10     7\n",
       "11     5\n",
       "Name: x1, dtype: int64"
      ]
     },
     "execution_count": 6,
     "metadata": {},
     "output_type": "execute_result"
    }
   ],
   "source": [
    "data['x1']"
   ]
  },
  {
   "cell_type": "markdown",
   "metadata": {},
   "source": [
    "(Первая колонка — номер наблюдения; на неё сейчас можно не обращать внимания.)\n",
    "\n",
    "### Задача 2\n",
    "1. Для каждой из переменных, входящих в «квартет Энскомба», найти среднее и выборочную дисперсию.\n",
    "2. Для каждой из четырёх пар соответствующих переменных (`x1` и `y1`, `x2` и `y2` и т.д.) найти корреляцию Пирсона. (Подсказка: можно использовать функцию `pearsonr` из `scipy.stats`: она возвращает пару, первый элемент которой — коэффициент корреляции, а второй — *p-value* для проверки нулевой гипотезы об отсутствии зависимости между величинами.)\n",
    "3. Для каждой из указанных пар переменных построить scatter plot. (Подсказка: можно использовать `plt.plot` или `plt.scatter`.)\n",
    "\n",
    "*Квартет Энскомба демонстрирует, что даже если числовые характеристики выборок совпадают, их реальное распределение и характер связей между переменными могут существенно различаться. Поэтому визуализация — важный элемент анализа данных.*"
   ]
  },
  {
   "cell_type": "code",
   "execution_count": 14,
   "metadata": {
    "collapsed": true
   },
   "outputs": [],
   "source": [
    "import scipy\n",
    "from scipy.stats import pearsonr"
   ]
  },
  {
   "cell_type": "code",
   "execution_count": 30,
   "metadata": {
    "collapsed": true
   },
   "outputs": [],
   "source": [
    "import scipy.stats as sps"
   ]
  },
  {
   "cell_type": "code",
   "execution_count": 16,
   "metadata": {
    "collapsed": true
   },
   "outputs": [],
   "source": [
    "import matplotlib.pyplot as plt\n",
    "%matplotlib inline"
   ]
  },
  {
   "cell_type": "code",
   "execution_count": 8,
   "metadata": {
    "collapsed": false
   },
   "outputs": [
    {
     "name": "stdout",
     "output_type": "stream",
     "text": [
      "Task1\n",
      "Var \"x1\": mean=9.000000, var=10.000000\n",
      "Var \"x2\": mean=9.000000, var=10.000000\n",
      "Var \"x3\": mean=9.000000, var=10.000000\n",
      "Var \"x4\": mean=9.000000, var=10.000000\n",
      "Var \"y1\": mean=7.500909, var=3.752063\n",
      "Var \"y2\": mean=7.500909, var=3.752390\n",
      "Var \"y3\": mean=7.500000, var=3.747836\n",
      "Var \"y4\": mean=7.500909, var=3.748408\n"
     ]
    }
   ],
   "source": [
    "# впишите решение сюда\n",
    "print(\"Task1\")\n",
    "for var in data.columns:\n",
    "    print(\"Var \\\"%s\\\": mean=%f, var=%f\" % (var, np.mean(data[var]), np.var(data[var])) )"
   ]
  },
  {
   "cell_type": "code",
   "execution_count": 24,
   "metadata": {
    "collapsed": true
   },
   "outputs": [],
   "source": [
    "from itertools import product"
   ]
  },
  {
   "cell_type": "code",
   "execution_count": 29,
   "metadata": {
    "collapsed": false
   },
   "outputs": [
    {
     "name": "stdout",
     "output_type": "stream",
     "text": [
      "Pair ('x1', 'y1'): pearsonr = 0.816421\n",
      "Pair ('x2', 'y2'): pearsonr = 0.816237\n",
      "Pair ('x3', 'y3'): pearsonr = 0.816287\n",
      "Pair ('x4', 'y4'): pearsonr = 0.816521\n"
     ]
    },
    {
     "data": {
      "image/png": "[encoded data removed]",
      "text/plain": [
       "<matplotlib.figure.Figure at 0x11e4bd278>"
      ]
     },
     "metadata": {},
     "output_type": "display_data"
    }
   ],
   "source": [
    "fig, axs = plt.subplots(2,2, sharey=True)\n",
    "for x, y, idx in zip(data.columns[:4], data.columns[4:], product([0,1], [0,1])):\n",
    "    axs[idx[0], idx[1]].scatter(data[x], data[y])\n",
    "    print(\"Pair %s: pearsonr = %f\" % (repr((x,y)), pearsonr(data[x], data[y])[0]))"
   ]
  },
  {
   "cell_type": "markdown",
   "metadata": {},
   "source": [
    "### Задача 3\n",
    "Будем проводить следующий эксперимент: сгенерируем две различные независимые выборки размером `n = 5` из равномерного распределения на отрезке $[0, 1]$. С помощью теста Стьюдента проверим гипотезу о том, что эти две выборки были получены из распределений с различными средними ($H_0\\colon m_1 = m_2$, $H_1\\colon m_1 ≠ m_2$) на уровне значимости 5%.\n",
    "\n",
    "Повторим этот эксперимент 10000 раз. Сколько раз мы будем совершать ошибку первого рода, то есть ошибочно отвергать нулевую гипотезу? Что будет, если изменить уровень значимости (например, использовать уровень значимости 1%)? Что будет, если увеличить размер выборки до `n = 20`?\n",
    "\n",
    "Для генерирования выборок можно использовать `uniform.rvs`, для теста Стьюдента — `ttest_ind` (обе функции из пакета `scipy.stats`). Последняя функция возвращает пару, состоящую из значения t-статистики и p-value."
   ]
  },
  {
   "cell_type": "code",
   "execution_count": 32,
   "metadata": {
    "collapsed": false
   },
   "outputs": [
    {
     "name": "stdout",
     "output_type": "stream",
     "text": [
      "Rejecting null hypothesis\n"
     ]
    }
   ],
   "source": [
    "# впишите решение сюда\n",
    "n = 5\n",
    "src1 = np.random.uniform(size=n)\n",
    "src2 = np.random.uniform(size=n)\n",
    "ts, pv = sps.ttest_ind(src1, src2)\n",
    "if pv > 0.05:\n",
    "    print(\"Rejecting null hypothesis\")"
   ]
  },
  {
   "cell_type": "code",
   "execution_count": 53,
   "metadata": {
    "collapsed": false
   },
   "outputs": [
    {
     "name": "stdout",
     "output_type": "stream",
     "text": [
      "There're 551 times pvalue was less than 0.05\n"
     ]
    }
   ],
   "source": [
    "gpop1 = np.random.uniform(size=(n, 10000))\n",
    "gpop2 = np.random.uniform(size=(n, 10000))\n",
    "\n",
    "res = sps.ttest_ind(gpop1, gpop2, axis=0)\n",
    "pv_low_thresh = np.apply_along_axis(lambda x: 1 if x <= 0.05 else 0, axis=0, arr=res.pvalue.reshape(1, 10000))\n",
    "print(\"There're %d times pvalue was less than 0.05\" % pv_low_thresh.sum())"
   ]
  },
  {
   "cell_type": "code",
   "execution_count": 59,
   "metadata": {
    "collapsed": false
   },
   "outputs": [
    {
     "name": "stdout",
     "output_type": "stream",
     "text": [
      "There're 113 times pvalue was less than 0.01\n"
     ]
    }
   ],
   "source": [
    "n2 = 20\n",
    "sign_level2 = 0.01\n",
    "gpop1 = np.random.uniform(size=(n2, 10000))\n",
    "gpop2 = np.random.uniform(size=(n2, 10000))\n",
    "\n",
    "res = sps.ttest_ind(gpop1, gpop2, axis=0)\n",
    "pv_low_thresh = np.apply_along_axis(lambda x: 1 if x <= sign_level2 else 0, axis=0, arr=res.pvalue.reshape(1, 10000))\n",
    "print(\"There're %d times pvalue was less than %.2f\" % (pv_low_thresh.sum(), sign_level2))"
   ]
  },
  {
   "cell_type": "markdown",
   "metadata": {},
   "source": [
    "### Задача 4\n",
    "Будем проводить следующий численный эксперимент. Сгенерируем две независимые выборки из стандартного нормального распределения одинаковой длины `n = 10`. Посчитаем коэффициент корреляции Пирсона между ними. Повторим процедуру 1000 раз. Выберем пару выборок с наибольшим по модулю коэффициентом корреляции.\n",
    "\n",
    "Указать, какой коэффициент корреляции получится. Нарисовать scatter plot для этой пары выборок.\n",
    "\n",
    "*Эта задача показывает, что если долго искать, то можно найти хорошо коррелирующие переменные, даже если они заведомо были порождены независимыми случайными величинами.*"
   ]
  },
  {
   "cell_type": "code",
   "execution_count": 97,
   "metadata": {
    "collapsed": true
   },
   "outputs": [],
   "source": [
    "# впишите решение сюда\n",
    "n3 = 10\n",
    "repeat = 1000\n",
    "gp1 = np.random.uniform(size=(n3, repeat))\n",
    "gp2 = np.random.uniform(size=(n3, repeat))\n",
    "\n",
    "res = []\n",
    "\n",
    "for x in range(repeat):\n",
    "    pc = sps.pearsonr(gp1[:,x], gp2[:,x])\n",
    "    res.append(pc[0])\n",
    "\n",
    "df = pd.DataFrame({'pearson': res})\n",
    "df['absol'] = df.pearson.apply(lambda x: np.abs(x))"
   ]
  },
  {
   "cell_type": "code",
   "execution_count": 98,
   "metadata": {
    "collapsed": false
   },
   "outputs": [
    {
     "data": {
      "text/plain": [
       "(1000, 2)"
      ]
     },
     "execution_count": 98,
     "metadata": {},
     "output_type": "execute_result"
    }
   ],
   "source": [
    "df.shape"
   ]
  },
  {
   "cell_type": "code",
   "execution_count": 102,
   "metadata": {
    "collapsed": false,
    "scrolled": true
   },
   "outputs": [
    {
     "data": {
      "text/plain": [
       "883    0.959067\n",
       "Name: absol, dtype: float64"
      ]
     },
     "execution_count": 102,
     "metadata": {},
     "output_type": "execute_result"
    }
   ],
   "source": [
    "max_pear_idx = df.absol.sort_values(ascending=False).head(1).index.tolist()[0]\n",
    "df.absol.sort_values(ascending=False).head(1)"
   ]
  },
  {
   "cell_type": "code",
   "execution_count": 104,
   "metadata": {
    "collapsed": false
   },
   "outputs": [
    {
     "data": {
      "text/plain": [
       "<matplotlib.collections.PathCollection at 0x11eb62d68>"
      ]
     },
     "execution_count": 104,
     "metadata": {},
     "output_type": "execute_result"
    },
    {
     "data": {
      "image/png": "[encoded data removed]",
      "text/plain": [
       "<matplotlib.figure.Figure at 0x11e251898>"
      ]
     },
     "metadata": {},
     "output_type": "display_data"
    }
   ],
   "source": [
    "plt.scatter(gp1[:, max_pear_idx], gp2[:, max_pear_idx], c=['b', 'y'])"
   ]
  },
  {
   "cell_type": "code",
   "execution_count": null,
   "metadata": {
    "collapsed": true
   },
   "outputs": [],
   "source": []
  }
 ],
 "metadata": {
  "gist": {
   "data": {
    "description": "hw-stats.ipynb",
    "public": false
   },
   "id": ""
  },
  "kernelspec": {
   "display_name": "Python 3",
   "language": "python",
   "name": "python3"
  },
  "language_info": {
   "codemirror_mode": {
    "name": "ipython",
    "version": 3
   },
   "file_extension": ".py",
   "mimetype": "text/x-python",
   "name": "python",
   "nbconvert_exporter": "python",
   "pygments_lexer": "ipython3",
   "version": "3.6.0"
  },
  "toc": {
   "toc_cell": false,
   "toc_number_sections": false,
   "toc_section_display": "none",
   "toc_threshold": 6,
   "toc_window_display": false
  }
 },
 "nbformat": 4,
 "nbformat_minor": 1
}
